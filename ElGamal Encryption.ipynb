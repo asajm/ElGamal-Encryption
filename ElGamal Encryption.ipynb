{
 "cells": [
  {
   "cell_type": "markdown",
   "metadata": {},
   "source": [
    "\n",
    "<div style=\"text-align: center;\">\n",
    "    <h1>ElGamal Encryption: Theory, Properties, and Applications</h1>\n",
    "    <p style=\"text-align: center;\">Ahmed Almalki</p>\n",
    "    <time>May 15, 2023</time>\n",
    "    <br>\n",
    "    <a href=\"https://github.com/asajm/ElGamal-Encryption\">https://github.com/asajm/ElGamal-Encryption</a>\n",
    "</div>\n",
    "<hr>"
   ]
  },
  {
   "cell_type": "markdown",
   "metadata": {},
   "source": [
    "## Introduction\n",
    "\n",
    "ElGamal encryption, devised by Taher ElGamal in 1985, is a public-key cryptosystem based on the Diffie–Hellman key exchange. It’s among the earliest of cryptosystems that are theoretically secure against ciphertext attacks. In this project, we will discuss the theoretical background of ElGamal encryption, its importance and applications, and provide some examples and computations.\n"
   ]
  },
  {
   "cell_type": "markdown",
   "metadata": {},
   "source": [
    "## Theoretical Background\n",
    "\n",
    "ElGamal encryption depends on the difficulty of finding discrete logarithms within a cyclic group. In cyclic groups, every element has an inverse, and the product of any two elements is also an element of the group. ElGamal encryption provides a secure way to transmit encrypted messages over an unsecured channel. The scheme involves key generation, encryption, and decryption processes."
   ]
  },
  {
   "cell_type": "markdown",
   "metadata": {},
   "source": [
    "### Key Generation\n",
    "\n",
    "The key generation process involves selecting a cyclic group and a generator for that group. Let's consider a finite cyclic group $G=\\mathbb{Z_p^*}$ of order $p$, where $p$ is a large prime number. The generator $g$ of $G$ is a randomly chosen element. Each user generates their key pair consisting of a private key, $x$ (randomly selected from $\\{1,2,...,p-1\\}$), and a corresponding public key, $y = g^x \\mod p$."
   ]
  },
  {
   "cell_type": "markdown",
   "metadata": {},
   "source": [
    "### Encryption\n",
    "\n",
    "To encrypt a message $m$ using the recipient's public key ($y$), the sender randomly selects a value $k$ from $\\{1,2,...,p-1\\}$. The ciphertext consists of two parts: $c_1 = g^k \\mod p$ and $c_2 = m \\cdot y^k \\mod p$."
   ]
  },
  {
   "cell_type": "markdown",
   "metadata": {},
   "source": [
    "### Decryption\n",
    "\n",
    "The recipient uses their private key ($x$) to decrypt the ciphertext. By computing the secret key $S = (C_1^x)^{-1} \\mod p$, the original message can be retrieved as $m = C_2 \\cdot S \\mod p$."
   ]
  },
  {
   "cell_type": "markdown",
   "metadata": {},
   "source": [
    "### Alice/Bob Scenario\n",
    "\n",
    "1. Alice selects a large prime number $p$ and a generator $g$ of the group $\\mathbb{Z}^*_p$.\n",
    "2. Alice selects a private key $x$ (randomly selected from $\\{1,2,...,p-1\\}$) and computes $y = g^x\\bmod p$.\n",
    "3. Alice sends the public key $(p,g,y)$ to Bob.\n",
    "4. Bob has a senstive message $m$ that is to be shared with Alice via an insecure channel.\n",
    "5. Bob selects a random integer $r$ (from $\\{1,2,...,p-1\\}$) and computes $C_1 = g^r\\mod p$ and $C_2 = m\\cdot y^r\\mod p$.\n",
    "5. Bob sends the ciphertext consists of two parts: $(C_1, C_2)$ to Alice.\n",
    "6. Alice computes the shared secret $S = (C_1^x)^{-1}\\mod p$, the senstive message can be retrieved as $m = C_2\\cdot S\\mod p$."
   ]
  },
  {
   "cell_type": "markdown",
   "metadata": {},
   "source": [
    "## Importance/Applications of ElGamal Encryption\n",
    "\n",
    "ElGamal encryption has significant importance within the field of cryptography and mathematics. It provides a practical implementation of public-key cryptography, which revolutionized secure communication. The scheme's reliance on the discrete logarithm problem forms the basis for various cryptographic protocols and algorithms."
   ]
  },
  {
   "cell_type": "markdown",
   "metadata": {},
   "source": [
    "### Applications\n",
    "\n",
    "Similar to other public key systems, the ElGamal cryptosystem is commonly employed within a hybrid cryptosystem framework. In this approach, the message is typically encrypted using a symmetric cryptosystem, while ElGamal is specifically utilized to encrypt solely the symmetric key.\n",
    "\n",
    "* **Secure Communication:** Public key cryptosystems are commonly used to provide secure communication over insecure channels.\n",
    "* **Digital Signature:** Public key cryptosystems are used for generating and verifying digital signatures. "
   ]
  },
  {
   "cell_type": "markdown",
   "metadata": {},
   "source": [
    "## Example and Computation\n",
    "Here's an example implementation of ElGamal encryption in Python:"
   ]
  },
  {
   "cell_type": "code",
   "execution_count": 100,
   "metadata": {},
   "outputs": [
    {
     "name": "stdout",
     "output_type": "stream",
     "text": [
      "Original message: 9\n",
      "ciphertext message: (6, 16)\n",
      "Decrypted message: 9\n"
     ]
    }
   ],
   "source": [
    "import random\n",
    "\n",
    "# Key Generation\n",
    "def generate_keys(p):\n",
    "    # Select a large prime p\n",
    "    # Find a generator g of the cyclic group Z_p*\n",
    "    while True:\n",
    "        g = random.randint(2, p - 1)\n",
    "        if pow(g, (p - 1) // 2, p) != 1 and pow(g, p - 1, p) == 1:\n",
    "            break\n",
    "    \n",
    "    x = random.randint(1, p - 1)\n",
    "    y = pow(g, x, p)\n",
    "    \n",
    "    return x, (g, p, y)\n",
    "\n",
    "# Encryption\n",
    "def encrypt(public_key, message):\n",
    "    g, p, y = public_key\n",
    "    k = random.randint(1, p - 1)\n",
    "    c1 = pow(g, k, p)\n",
    "    c2 = (pow(y, k, p) * message) % p\n",
    "    return c1, c2\n",
    "\n",
    "# Decryption\n",
    "def decrypt(private_key, ciphertext):\n",
    "    x = private_key\n",
    "    c1, c2 = ciphertext\n",
    "    s = pow(c1, x, p)\n",
    "    s_inv = pow(s, -1, p)\n",
    "    original_message = (c2 * s_inv) % p\n",
    "    return original_message\n",
    "\n",
    "# Example usage\n",
    "p = 23  # A prime number\n",
    "private_key, public_key = generate_keys(p)\n",
    "\n",
    "message = 9  # The message to be encrypted\n",
    "\n",
    "ciphertext = encrypt(public_key, message)\n",
    "decrypted_message = decrypt(private_key, ciphertext)\n",
    "\n",
    "print(\"Original message:\", message)\n",
    "print(\"ciphertext message:\", ciphertext)\n",
    "print(\"Decrypted message:\", decrypted_message)"
   ]
  },
  {
   "cell_type": "markdown",
   "metadata": {},
   "source": [
    "## References\n",
    "* Taher Elgamal, \"A Public Key Cryptosystem and a Signature Scheme Based on Discrete Logarithms,\" IEEE Transactions on Information Theory, vol. 31, no. 4, pp. 469-472, July 1985.\n",
    "* Boneh, D., Shoup, V. A Graduate Course in Applied Cryptography. Version 0.6. Available at: https://toc.cryptobook.us/book.pdf.\n"
   ]
  }
 ],
 "metadata": {
  "kernelspec": {
   "display_name": "Python 3",
   "language": "python",
   "name": "python3"
  },
  "language_info": {
   "codemirror_mode": {
    "name": "ipython",
    "version": 3
   },
   "file_extension": ".py",
   "mimetype": "text/x-python",
   "name": "python",
   "nbconvert_exporter": "python",
   "pygments_lexer": "ipython3",
   "version": "3.8.3"
  }
 },
 "nbformat": 4,
 "nbformat_minor": 4
}
